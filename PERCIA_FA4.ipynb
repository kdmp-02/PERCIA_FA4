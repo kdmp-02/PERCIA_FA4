{
 "cells": [
  {
   "cell_type": "code",
   "execution_count": 29,
   "metadata": {},
   "outputs": [
    {
     "name": "stdout",
     "output_type": "stream",
     "text": [
      "11\n"
     ]
    },
    {
     "data": {
      "text/plain": [
       "'\\no = int(input(\"Enter a number for m = \"))\\np = int(input(\"Enter a number for n = \"))\\n\\nprint(ack(o,p))\\n'"
      ]
     },
     "execution_count": 29,
     "metadata": {},
     "output_type": "execute_result"
    }
   ],
   "source": [
    "def ack(m,n):\n",
    "    if m==0:\n",
    "        return n+1\n",
    "    elif m>0 and n==0:\n",
    "        return ack(m-1,1)\n",
    "    elif m>0 and n>0:\n",
    "        return ack(m-1,ack(m,n-1))\n",
    "    \n",
    "print(ack(2,4))\n",
    "\n",
    "#For user input below (to know what will happen for larger values of m and n)\n",
    "#just delete the multiline comments\n",
    "\"\"\"\n",
    "value_m = int(input(\"Enter a number for m = \"))\n",
    "value_n = int(input(\"Enter a number for n = \"))\n",
    "\n",
    "print(ack(value_m,value_n))\n",
    "\"\"\""
   ]
  },
  {
   "cell_type": "code",
   "execution_count": 32,
   "metadata": {},
   "outputs": [
    {
     "name": "stdout",
     "output_type": "stream",
     "text": [
      "False\n"
     ]
    },
    {
     "data": {
      "text/plain": [
       "'\\nvalue_a = int(input(\"Enter a number for a = \"))\\nvalue_b = int(input(\"Enter a number for b = \"))\\n\\nprint(is_power(value_a,value_b))\\n'"
      ]
     },
     "execution_count": 32,
     "metadata": {},
     "output_type": "execute_result"
    }
   ],
   "source": [
    "def is_power(a,b):\n",
    "    if a%b == 0:\n",
    "        if (a/b)%b == 0:\n",
    "            return True\n",
    "        else:\n",
    "            return False\n",
    "    else:\n",
    "        return False\n",
    "    \n",
    "print(is_power(6,2))\n",
    "\n",
    "#For user input below (to check other numbers)\n",
    "#just delete the comments\n",
    "\"\"\"\n",
    "value_a = int(input(\"Enter a number for a = \"))\n",
    "value_b = int(input(\"Enter a number for b = \"))\n",
    "\n",
    "print(is_power(value_a,value_b))\n",
    "\"\"\""
   ]
  },
  {
   "cell_type": "code",
   "execution_count": null,
   "metadata": {},
   "outputs": [],
   "source": []
  }
 ],
 "metadata": {
  "kernelspec": {
   "display_name": "Python 3",
   "language": "python",
   "name": "python3"
  },
  "language_info": {
   "codemirror_mode": {
    "name": "ipython",
    "version": 3
   },
   "file_extension": ".py",
   "mimetype": "text/x-python",
   "name": "python",
   "nbconvert_exporter": "python",
   "pygments_lexer": "ipython3",
   "version": "3.7.0"
  }
 },
 "nbformat": 4,
 "nbformat_minor": 2
}
